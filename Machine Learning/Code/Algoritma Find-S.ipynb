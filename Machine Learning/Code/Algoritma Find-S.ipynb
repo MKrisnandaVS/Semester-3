{
 "cells": [
  {
   "cell_type": "markdown",
   "metadata": {},
   "source": [
    "# ALGORITMA FIND-S"
   ]
  },
  {
   "cell_type": "markdown",
   "metadata": {},
   "source": [
    "## Fungsi find_s(data)"
   ]
  },
  {
   "cell_type": "code",
   "execution_count": 40,
   "metadata": {},
   "outputs": [],
   "source": [
    "def find_s(data):\n",
    "    hypothesis = data[0][1:-1] #Inisialisasi Hipotesis\n",
    "    for row in data:\n",
    "        if row[-1] == 'ya':\n",
    "            for i in range(len(hypothesis)):\n",
    "                if row[i+1] != hypothesis[i]:\n",
    "                    hypothesis[i] = '*'\n",
    "    return hypothesis"
   ]
  },
  {
   "cell_type": "markdown",
   "metadata": {},
   "source": [
    "    hypothesis = data[0][1:-1]:\n",
    "        Ini adalah langkah inisialisasi. Kita mulai dengan hipotesis paling spesifik.\n",
    "        data[0] ngambil baris pertama dari data.\n",
    "        [1:-1] adalah slicing. Kita skip elemen pertama (ID) dan terakhir (label).\n",
    "        Jadi, kita mulai dengan atribut dari contoh pertama sebagai hipotesis awal.\n",
    "\n",
    "    for row in data::\n",
    "        Kita loop through semua baris data.\n",
    "        Ini penting karena kita mau cek semua contoh untuk update hipotesis kita.\n",
    "\n",
    "    if row[-1] == 'ya'::\n",
    "        Kita cuma tertarik sama contoh positif ('ya').\n",
    "        row[-1] ngambil elemen terakhir dari baris, yang adalah label ('ya' atau 'tidak').\n",
    "\n",
    "    for i in range(len(hypothesis))::\n",
    "        Kalo ketemu contoh positif, kita cek tiap atribut.\n",
    "        range(len(hypothesis)) ngasih kita indeks untuk tiap atribut.\n",
    "\n",
    "    if row[i+1] != hypothesis[i]::\n",
    "        Kita bandingin atribut dari contoh saat ini (row[i+1]) dengan hipotesis (hypothesis[i]).\n",
    "        Kita pake i+1 karena indeks 0 di row itu ID, jadi atribut mulai dari indeks 1.\n",
    "\n",
    "    hypothesis[i] = '*':\n",
    "        Kalo ada perbedaan, kita ganti jadi '*'.\n",
    "        '*' ini wildcard, artinya \"bisa apa aja\".\n",
    "\n",
    "    return hypothesis:\n",
    "        Setelah cek semua data, kita return hipotesis final.\n",
    "\n",
    "Jadi, fungsi ini basically nyari pola yang paling umum dari semua contoh positif. Kalo ada perbedaan, dia bikin lebih general pake '*'."
   ]
  },
  {
   "cell_type": "markdown",
   "metadata": {},
   "source": [
    "## Fungsi get_user_input()"
   ]
  },
  {
   "cell_type": "code",
   "execution_count": 41,
   "metadata": {},
   "outputs": [],
   "source": [
    "def get_user_input():\n",
    "    print(\"\\nMasukkan kondisi cuaca hari ini:\")\n",
    "    cuaca = input(\"Cuaca (cerah/hujan): \").lower()\n",
    "    ketinggian = input(\"Ketinggian (normal/tinggi): \").lower()\n",
    "    angin = input(\"Kecepatan Angin (pelan/kencang): \").lower()\n",
    "    return [cuaca, ketinggian, angin]"
   ]
  },
  {
   "cell_type": "markdown",
   "metadata": {},
   "source": [
    "    print(\"\\nMasukkan kondisi cuaca hari ini:\"):\n",
    "        Ini cuma buat kasih instruksi ke user. \\n buat bikin line break.\n",
    "\n",
    "    cuaca = input(\"Cuaca (cerah/hujan): \").lower():\n",
    "        input() nunggu user ketik sesuatu dan enter.\n",
    "        Teksnya ngasih tau user pilihan yang valid.\n",
    "        .lower() ngubah input jadi lowercase, biar konsisten.\n",
    "\n",
    "    Hal yang sama berlaku buat ketinggian dan angin.\n",
    "\n",
    "    return [cuaca, ketinggian, angin]:\n",
    "        Kita return list berisi 3 input dari user.\n",
    "        Format ini cocok sama format hipotesis yang kita punya.\n",
    "\n",
    "Fungsi ini penting banget karena dia bikin program kita interaktif. User bisa input kondisi real-time dan dapet prediksi."
   ]
  },
  {
   "cell_type": "markdown",
   "metadata": {},
   "source": [
    "## Fungsi tampilkan_kesimpulan(hipotesis, input_user)"
   ]
  },
  {
   "cell_type": "code",
   "execution_count": 42,
   "metadata": {},
   "outputs": [],
   "source": [
    "def tampilkan_kesimpulan(hipotesis, input_user):\n",
    "    print(\"\\nKesimpulan:\")\n",
    "    if all(h == '*' or h == i for h, i in zip(hipotesis, input_user)):\n",
    "        print(\"Berdasarkan data pelatihan, kemungkinan besar Anda akan berolahraga hari ini.\")\n",
    "    else:\n",
    "        print(\"Berdasarkan data pelatihan, kemungkinan besar Anda tidak akan berolahraga hari ini.\")"
   ]
  },
  {
   "cell_type": "markdown",
   "metadata": {},
   "source": [
    "    print(\"\\nKesimpulan:\"):\n",
    "        Cuma buat nandain bahwa ini bagian kesimpulan.\n",
    "\n",
    "    if all(h == '*' or h == i for h, i in zip(hipotesis, input_user))::\n",
    "        Ini bagian krusial. Mari kita pecah:\n",
    "        zip(hipotesis, input_user): Ini nge-pair tiap elemen dari hipotesis dan input user.\n",
    "        h == '*' or h == i: Untuk tiap pair, kita cek apakah elemen hipotesis '*' (wildcard) atau sama persis dengan input user.\n",
    "        all(): Fungsi ini ngecek apakah semua elemen dalam iterabel itu True.\n",
    "\n",
    "    Kalo semua cocok (atau '*'), kita prediksi \"akan berolahraga\".\n",
    "\n",
    "    Kalo ada yang nggak cocok, kita prediksi \"tidak akan berolahraga\".\n",
    "\n",
    "Fungsi ini nge-translate hasil komputasi ke bahasa yang mudah dipahami user."
   ]
  },
  {
   "cell_type": "markdown",
   "metadata": {},
   "source": [
    "## Data Pelatihan"
   ]
  },
  {
   "cell_type": "code",
   "execution_count": 43,
   "metadata": {},
   "outputs": [],
   "source": [
    "data = [\n",
    "    ['D1', 'cerah', 'normal', 'pelan', 'ya'],\n",
    "    ['D2', 'cerah', 'normal', 'pelan', 'ya'],\n",
    "    ['D3', 'hujan', 'tinggi', 'pelan', 'tidak'],\n",
    "    ['D4', 'cerah', 'normal', 'kencang', 'ya'],\n",
    "    ['D5', 'hujan', 'tinggi', 'kencang', 'tidak'],\n",
    "    ['D6', 'cerah', 'normal', 'pelan', 'ya'],\n",
    "]"
   ]
  },
  {
   "cell_type": "markdown",
   "metadata": {},
   "source": [
    "    Tiap baris punya format: [ID, Cuaca, Ketinggian, Angin, Keputusan].\n",
    "    Ada variasi dalam data: berbagai kombinasi kondisi dan keputusan.\n",
    "    Mayoritas contoh positif ('ya') punya pola: cerah, normal, dan kebanyakan pelan.\n",
    "    Contoh negatif ('tidak') punya pola: hujan dan tinggi.\n",
    "\n",
    "Dataset ini cukup simpel tapi punya variasi yang cukup buat algoritma Find-S belajar pola."
   ]
  },
  {
   "cell_type": "markdown",
   "metadata": {},
   "source": [
    "## Main Program"
   ]
  },
  {
   "cell_type": "code",
   "execution_count": 44,
   "metadata": {},
   "outputs": [
    {
     "name": "stdout",
     "output_type": "stream",
     "text": [
      "Hasil Find-S adalah:\n",
      "H(Cuaca, Ketinggian, Kecepatan Angin) = ['cerah', 'normal', '*']\n",
      "\n",
      "Verifikasi hasil:\n",
      "H(Cerah, Normal, *) = Ya\n",
      "H(Hujan, Tinggi, *) = Tidak\n",
      "\n",
      "Masukkan kondisi cuaca hari ini:\n",
      "\n",
      "Kesimpulan:\n",
      "Berdasarkan data pelatihan, kemungkinan besar Anda tidak akan berolahraga hari ini.\n"
     ]
    }
   ],
   "source": [
    "# Jalankan algoritma Find-S\n",
    "hasil = find_s(data)\n",
    "print(\"Hasil Find-S adalah:\")\n",
    "print(f\"H(Cuaca, Ketinggian, Kecepatan Angin) = {hasil}\")\n",
    "\n",
    "# Verifikasi dengan hasil yang diharapkan\n",
    "print(\"\\nVerifikasi hasil:\")\n",
    "print(f\"H(Cerah, Normal, *) = Ya\")\n",
    "print(f\"H(Hujan, Tinggi, *) = Tidak\")\n",
    "\n",
    "# Minta input dari user\n",
    "input_user = get_user_input()\n",
    "\n",
    "# Tampilkan kesimpulan\n",
    "tampilkan_kesimpulan(hasil, input_user)"
   ]
  },
  {
   "cell_type": "markdown",
   "metadata": {},
   "source": [
    "    hasil = find_s(data):\n",
    "        Kita jalanin algoritma Find-S ke data training.\n",
    "        Hasilnya adalah hipotesis yang udah di-generalisasi.\n",
    "\n",
    "    print(\"Hasil Find-S adalah:\") dan print(f\"H(Cuaca, Ketinggian, Kecepatan Angin) = {hasil}\"):\n",
    "        Ini buat nampilin hasil Find-S ke user.\n",
    "        Formatnya jelas: kita bisa liat hipotesis untuk tiap atribut.\n",
    "\n",
    "    input_user = get_user_input():\n",
    "        Kita minta input dari user tentang kondisi cuaca hari ini.\n",
    "\n",
    "    tampilkan_kesimpulan(hasil, input_user):\n",
    "        Akhirnya, kita bandingin input user dengan hipotesis dan kasih prediksi."
   ]
  },
  {
   "cell_type": "markdown",
   "metadata": {},
   "source": [
    "# Kesimpulan"
   ]
  },
  {
   "cell_type": "markdown",
   "metadata": {},
   "source": [
    "Kesimpulan:\n",
    "Program ini adalah implementasi sederhana tapi powerful dari konsep machine learning, khususnya algoritma Find-S. Kita mulai dari data training, belajar pola, terus bisa bikin prediksi buat data baru.\n",
    "\n",
    "Yang keren:\n",
    "\n",
    "    Interaktif: User bisa input data real-time.\n",
    "    Interpretable: Kita bisa liat hipotesis yang dihasilkan.\n",
    "    Praktis: Langsung kasih prediksi yang mudah dipahami.\n",
    "\n",
    "Limitasi:\n",
    "\n",
    "    Terlalu simpel buat masalah dunia nyata yang kompleks.\n",
    "    Cuma fokus ke contoh positif, jadi bisa jadi terlalu general.\n",
    "    Asumsi bahwa semua atribut sama pentingnya.\n",
    "\n",
    "Overall, ini tool yang bagus banget buat belajar konsep dasar machine learning. Lo bisa liat gimana model \"belajar\" dari data dan gimana cara aplikasiin pengetahuan itu ke situasi baru."
   ]
  }
 ],
 "metadata": {
  "kernelspec": {
   "display_name": "Python 3",
   "language": "python",
   "name": "python3"
  },
  "language_info": {
   "codemirror_mode": {
    "name": "ipython",
    "version": 3
   },
   "file_extension": ".py",
   "mimetype": "text/x-python",
   "name": "python",
   "nbconvert_exporter": "python",
   "pygments_lexer": "ipython3",
   "version": "3.11.9"
  }
 },
 "nbformat": 4,
 "nbformat_minor": 2
}
