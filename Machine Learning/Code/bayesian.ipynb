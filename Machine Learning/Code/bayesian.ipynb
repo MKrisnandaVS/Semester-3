{
 "cells": [
  {
   "cell_type": "markdown",
   "metadata": {},
   "source": [
    "# No. 3"
   ]
  },
  {
   "cell_type": "code",
   "execution_count": 22,
   "metadata": {},
   "outputs": [],
   "source": [
    "# Data awal\n",
    "data = [\n",
    "    ('Panjang', 'Kecil', 'Ringan', 'Ikan Lele'),\n",
    "    ('Panjang', 'Sedang', 'Berat', 'Ikan Lele'),\n",
    "    ('Panjang', 'Lebar', 'Berat', 'Gurami'),\n",
    "    ('Sedang', 'Kecil', 'Berat', 'Ikan Lele'),\n",
    "    ('Sedang', 'Sedang', 'Ringan', 'Ikan Lele'),\n",
    "    ('Sedang', 'Lebar', 'Berat', 'Gurami'),\n",
    "    ('Kecil', 'Kecil', 'Ringan', 'Gurami'),\n",
    "    ('Kecil', 'Sedang', 'Ringan', 'Gurami'),\n",
    "    ('Kecil', 'Lebar', 'Berat', 'Gurami'),\n",
    "]"
   ]
  },
  {
   "cell_type": "code",
   "execution_count": 23,
   "metadata": {},
   "outputs": [],
   "source": [
    "# Menghitung Total Data\n",
    "total_data = len(data)\n",
    "total_ikan_lele = sum(1 for _, _, _, jenis in data if jenis == \"Ikan Lele\")\n",
    "total_ikan_gurami = sum(1 for _, _, _, jenis in data if jenis == \"Gurami\")"
   ]
  },
  {
   "cell_type": "code",
   "execution_count": 24,
   "metadata": {},
   "outputs": [],
   "source": [
    "# Menghitung Probabilitas dari A Priori\n",
    "P_lele = total_ikan_lele / total_data\n",
    "P_gurami = total_ikan_gurami / total_data"
   ]
  },
  {
   "cell_type": "code",
   "execution_count": 25,
   "metadata": {},
   "outputs": [],
   "source": [
    "# Fungsi untuk Menghitung Probabilitas Kondisional\n",
    "def calculate_conditional_probability(feature1, feature2, label):\n",
    "    count = sum(1 for item in data if item[3] == label and item[0] == feature1 and item[1] == feature2)\n",
    "    total_label = sum(1 for item in data if item[3] == label)\n",
    "    return count / total_label if total_label > 0 else 0"
   ]
  },
  {
   "cell_type": "code",
   "execution_count": 26,
   "metadata": {},
   "outputs": [],
   "source": [
    "# Fitur yang Ingin Diuji\n",
    "test_feature1 = 'Panjang'\n",
    "test_feature2 = 'Lebar'"
   ]
  },
  {
   "cell_type": "code",
   "execution_count": 27,
   "metadata": {},
   "outputs": [],
   "source": [
    "# Menghitung Probabilitas untuk Setiap Jenis Ikan\n",
    "P_lele_given_features = P_lele * calculate_conditional_probability(test_feature1, test_feature2, \"Ikan Lele\")\n",
    "P_gurami_given_features = P_gurami * calculate_conditional_probability(test_feature1, test_feature2, \"Gurami\")"
   ]
  },
  {
   "cell_type": "code",
   "execution_count": 28,
   "metadata": {},
   "outputs": [
    {
     "name": "stdout",
     "output_type": "stream",
     "text": [
      "P(Jenis Ikan = Ikan Lele | Fitur) = 0.0000\n",
      "P(Jenis Ikan = Gurami | Fitur) = 0.1111\n"
     ]
    }
   ],
   "source": [
    "# Menampilkan Hasil\n",
    "print(f\"P(Jenis Ikan = Ikan Lele | Fitur) = {P_lele_given_features:.4f}\")\n",
    "print(f\"P(Jenis Ikan = Gurami | Fitur) = {P_gurami_given_features:.4f}\")"
   ]
  },
  {
   "cell_type": "code",
   "execution_count": 29,
   "metadata": {},
   "outputs": [],
   "source": [
    "# Normalisasi\n",
    "total = P_lele_given_features + P_gurami_given_features\n",
    "\n",
    "if total > 0:  # Mencegah pembagian dengan nol\n",
    "    P_lele_normalized = P_lele_given_features / total\n",
    "    P_gurami_normalized = P_gurami_given_features / total\n",
    "else:\n",
    "    P_lele_normalized = 0\n",
    "    P_gurami_normalized = 0"
   ]
  },
  {
   "cell_type": "code",
   "execution_count": 30,
   "metadata": {},
   "outputs": [
    {
     "name": "stdout",
     "output_type": "stream",
     "text": [
      "Probabilitas akhir:\n",
      "P(Jenis Ikan = Ikan Lele | Fitur) = 0.0000\n",
      "P(Jenis Ikan = Gurami | Fitur) = 1.0000\n",
      "Ikan tersebut termasuk Gurami.\n"
     ]
    }
   ],
   "source": [
    "# Menampilkan Hasil Akhir\n",
    "print(f\"Probabilitas akhir:\")\n",
    "print(f\"P(Jenis Ikan = Ikan Lele | Fitur) = {P_lele_normalized:.4f}\")\n",
    "print(f\"P(Jenis Ikan = Gurami | Fitur) = {P_gurami_normalized:.4f}\")\n",
    "\n",
    "if P_lele_normalized > P_gurami_normalized:\n",
    "    print(\"Ikan tersebut termasuk Ikan Lele.\")\n",
    "else:\n",
    "    print(\"Ikan tersebut termasuk Gurami.\")"
   ]
  },
  {
   "cell_type": "markdown",
   "metadata": {},
   "source": [
    "# No. 4"
   ]
  },
  {
   "cell_type": "code",
   "execution_count": 31,
   "metadata": {},
   "outputs": [],
   "source": [
    "# Data Awal\n",
    "data = [\n",
    "    (30, 'Tinggi', 'Single', 'Punya', 'Tidak'),\n",
    "    (30, 'Tinggi', 'Single', 'Tidak', 'Tidak'),\n",
    "    (35, 'Tinggi', 'Single', 'Punya', 'Iya'),\n",
    "    (45, 'Sedang', 'Single', 'Punya', 'Iya'),\n",
    "    (45, 'Rendah', 'Menikah', 'Punya', 'Iya'),\n",
    "    (45, 'Rendah', 'Menikah', 'Tidak', 'Tidak'),\n",
    "    (35, 'Rendah', 'Menikah', 'Punya', 'Iya'),\n",
    "    (30, 'Sedang', 'Single', 'Punya', 'Tidak'),\n",
    "    (45, 'Sedang', 'Menikah', 'Punya', 'Iya'),\n",
    "    (30, 'Rendah', 'Menikah', 'Punya', 'Iya'),\n",
    "    (35, 'Sedang', 'Menikah', 'Punya', 'Iya'),\n",
    "    (35, 'Tinggi', 'Menikah', 'Punya', 'Iya'),\n",
    "    (45, 'Sedang', 'Single', 'Tidak', 'Tidak'),\n",
    "]"
   ]
  },
  {
   "cell_type": "code",
   "execution_count": 32,
   "metadata": {},
   "outputs": [],
   "source": [
    "# Menghitung Total Data\n",
    "total_data = len(data)\n",
    "total_beli_iya = sum(1 for _, _, _, _, beli in data if beli == \"Iya\")\n",
    "total_beli_tidak = sum(1 for _, _, _, _, beli in data if beli == \"Tidak\")"
   ]
  },
  {
   "cell_type": "code",
   "execution_count": 33,
   "metadata": {},
   "outputs": [],
   "source": [
    "# Probabilitas A Priori\n",
    "P_iya = total_beli_iya / total_data\n",
    "P_tidak = total_beli_tidak / total_data"
   ]
  },
  {
   "cell_type": "code",
   "execution_count": 34,
   "metadata": {},
   "outputs": [],
   "source": [
    "# Fungsi untuk Menghitung Probabilitas Kondisional\n",
    "def calculate_conditional_probabilities(feature_index, feature_value, label):\n",
    "    count = sum(1 for item in data if item[-1] == label and item[feature_index] == feature_value)\n",
    "    total_label = sum(1 for item in data if item[-1] == label)\n",
    "    return count / total_label if total_label > 0 else 0"
   ]
  },
  {
   "cell_type": "code",
   "execution_count": 35,
   "metadata": {},
   "outputs": [],
   "source": [
    "# Data Kondisi yang Ingin Diuji\n",
    "umur = 30\n",
    "gaji = 'Sedang'\n",
    "status = 'Menikah'\n",
    "hutang = 'Punya'"
   ]
  },
  {
   "cell_type": "code",
   "execution_count": 36,
   "metadata": {},
   "outputs": [],
   "source": [
    "# Menghitung Probabilitas untuk Membeli Laptop\n",
    "P_iya_given_conditions = P_iya\n",
    "P_tidak_given_conditions = P_tidak\n",
    "\n",
    "# Menghitung probabilitas kondisional untuk setiap fitur\n",
    "P_iya_given_conditions *= calculate_conditional_probabilities(0, umur, \"Iya\")  # Umur\n",
    "P_iya_given_conditions *= calculate_conditional_probabilities(1, gaji, \"Iya\")  # Gaji\n",
    "P_iya_given_conditions *= calculate_conditional_probabilities(2, status, \"Iya\")  # Status\n",
    "P_iya_given_conditions *= calculate_conditional_probabilities(3, hutang, \"Iya\")  # Hutang\n",
    "\n",
    "P_tidak_given_conditions *= calculate_conditional_probabilities(0, umur, \"Tidak\")  # Umur\n",
    "P_tidak_given_conditions *= calculate_conditional_probabilities(1, gaji, \"Tidak\")  # Gaji\n",
    "P_tidak_given_conditions *= calculate_conditional_probabilities(2, status, \"Tidak\")  # Status\n",
    "P_tidak_given_conditions *= calculate_conditional_probabilities(3, hutang, \"Tidak\")  # Hutang"
   ]
  },
  {
   "cell_type": "code",
   "execution_count": 37,
   "metadata": {},
   "outputs": [
    {
     "name": "stdout",
     "output_type": "stream",
     "text": [
      "P(Beli Laptop = Iya | X) = 0.0216\n",
      "P(Beli Laptop = Tidak | X) = 0.0074\n"
     ]
    }
   ],
   "source": [
    "# Menampilkan Hasil\n",
    "print(f\"P(Beli Laptop = Iya | X) = {P_iya_given_conditions:.4f}\")\n",
    "print(f\"P(Beli Laptop = Tidak | X) = {P_tidak_given_conditions:.4f}\")"
   ]
  },
  {
   "cell_type": "code",
   "execution_count": 38,
   "metadata": {},
   "outputs": [],
   "source": [
    "# Normalisasi\n",
    "total = P_iya_given_conditions + P_tidak_given_conditions\n",
    "\n",
    "if total > 0:  # Mencegah pembagian dengan nol\n",
    "    P_iya_normalized = P_iya_given_conditions / total\n",
    "    P_tidak_normalized = P_tidak_given_conditions / total\n",
    "else:\n",
    "    P_iya_normalized = 0\n",
    "    P_tidak_normalized = 0"
   ]
  },
  {
   "cell_type": "code",
   "execution_count": 39,
   "metadata": {},
   "outputs": [
    {
     "name": "stdout",
     "output_type": "stream",
     "text": [
      "Probabilitas akhir:\n",
      "P(Beli Laptop = Iya | X) = 0.7455\n",
      "P(Beli Laptop = Tidak | X) = 0.2545\n",
      "Kemungkinan orang tersebut beli laptop.\n"
     ]
    }
   ],
   "source": [
    "# Menampilkan Hasil Akhir\n",
    "print(f\"Probabilitas akhir:\")\n",
    "print(f\"P(Beli Laptop = Iya | X) = {P_iya_normalized:.4f}\")\n",
    "print(f\"P(Beli Laptop = Tidak | X) = {P_tidak_normalized:.4f}\")\n",
    "\n",
    "if P_iya_normalized > P_tidak_normalized:\n",
    "    print(\"Kemungkinan orang tersebut beli laptop.\")\n",
    "else:\n",
    "    print(\"Kemungkinan orang tersebut tidak beli laptop.\")"
   ]
  },
  {
   "cell_type": "code",
   "execution_count": 41,
   "metadata": {},
   "outputs": [
    {
     "name": "stdout",
     "output_type": "stream",
     "text": [
      "P(Beli Laptop = Iya | X) = 0.0216\n",
      "P(Beli Laptop = Tidak | X) = 0.0074\n",
      "Probabilitas akhir:\n",
      "P(Beli Laptop = Iya | X) = 0.7455\n",
      "P(Beli Laptop = Tidak | X) = 0.2545\n",
      "Kemungkinan orang tersebut beli laptop.\n"
     ]
    }
   ],
   "source": [
    "# Data\n",
    "data = [\n",
    "    (30, 'Tinggi', 'Single', 'Punya', 'Tidak'),\n",
    "    (30, 'Tinggi', 'Single', 'Tidak', 'Tidak'),\n",
    "    (35, 'Tinggi', 'Single', 'Punya', 'Iya'),\n",
    "    (45, 'Sedang', 'Single', 'Punya', 'Iya'),\n",
    "    (45, 'Rendah', 'Menikah', 'Punya', 'Iya'),\n",
    "    (45, 'Rendah', 'Menikah', 'Tidak', 'Tidak'),\n",
    "    (35, 'Rendah', 'Menikah', 'Punya', 'Iya'),\n",
    "    (30, 'Sedang', 'Single', 'Punya', 'Tidak'),\n",
    "    (45, 'Sedang', 'Menikah', 'Punya', 'Iya'),\n",
    "    (30, 'Rendah', 'Menikah', 'Punya', 'Iya'),\n",
    "    (35, 'Sedang', 'Menikah', 'Punya', 'Iya'),\n",
    "    (35, 'Tinggi', 'Menikah', 'Punya', 'Iya'),\n",
    "    (45, 'Sedang', 'Single', 'Tidak', 'Tidak'),\n",
    "]\n",
    "\n",
    "# Menghitung total\n",
    "total_data = len(data)\n",
    "total_beli_iya = sum(1 for _, _, _, _, beli in data if beli == \"Iya\")\n",
    "total_beli_tidak = sum(1 for _, _, _, _, beli in data if beli == \"Tidak\")\n",
    "\n",
    "# Probabilitas A Priori\n",
    "P_iya = total_beli_iya / total_data\n",
    "P_tidak = total_beli_tidak / total_data\n",
    "\n",
    "# Fungsi untuk menghitung probabilitas kondisional\n",
    "def calculate_conditional_probabilities(feature_index, feature_value, label):\n",
    "    count = sum(1 for item in data if item[-1] == label and item[feature_index] == feature_value)\n",
    "    total_label = sum(1 for item in data if item[-1] == label)\n",
    "    return count / total_label if total_label > 0 else 0\n",
    "\n",
    "# Data kondisi yang ingin diuji\n",
    "umur = 30\n",
    "gaji = 'Sedang'\n",
    "status = 'Menikah'\n",
    "hutang = 'Punya'\n",
    "\n",
    "# Menghitung probabilitas untuk membeli laptop\n",
    "P_iya_given_conditions = P_iya\n",
    "P_tidak_given_conditions = P_tidak\n",
    "\n",
    "# Menghitung probabilitas kondisional untuk setiap fitur\n",
    "P_iya_given_conditions *= calculate_conditional_probabilities(0, umur, \"Iya\")   # Umur\n",
    "P_iya_given_conditions *= calculate_conditional_probabilities(1, gaji, \"Iya\")    # Gaji\n",
    "P_iya_given_conditions *= calculate_conditional_probabilities(2, status, \"Iya\")   # Status\n",
    "P_iya_given_conditions *= calculate_conditional_probabilities(3, hutang, \"Iya\")   # Hutang\n",
    "\n",
    "P_tidak_given_conditions *= calculate_conditional_probabilities(0, umur, \"Tidak\")  # Umur\n",
    "P_tidak_given_conditions *= calculate_conditional_probabilities(1, gaji, \"Tidak\")   # Gaji\n",
    "P_tidak_given_conditions *= calculate_conditional_probabilities(2, status, \"Tidak\")  # Status\n",
    "P_tidak_given_conditions *= calculate_conditional_probabilities(3, hutang, \"Tidak\")  # Hutang\n",
    "\n",
    "# Menampilkan hasil\n",
    "print(f\"P(Beli Laptop = Iya | X) = {P_iya_given_conditions:.4f}\")\n",
    "print(f\"P(Beli Laptop = Tidak | X) = {P_tidak_given_conditions:.4f}\")\n",
    "\n",
    "# Normalisasi\n",
    "total = P_iya_given_conditions + P_tidak_given_conditions\n",
    "\n",
    "if total > 0:  # Mencegah pembagian dengan nol\n",
    "    P_iya_normalized = P_iya_given_conditions / total\n",
    "    P_tidak_normalized = P_tidak_given_conditions / total\n",
    "else:\n",
    "    P_iya_normalized = 0\n",
    "    P_tidak_normalized = 0\n",
    "\n",
    "# Menampilkan hasil akhir\n",
    "print(f\"Probabilitas akhir:\")\n",
    "print(f\"P(Beli Laptop = Iya | X) = {P_iya_normalized:.4f}\")\n",
    "print(f\"P(Beli Laptop = Tidak | X) = {P_tidak_normalized:.4f}\")\n",
    "\n",
    "if P_iya_normalized > P_tidak_normalized:\n",
    "    print(\"Kemungkinan orang tersebut beli laptop.\")\n",
    "else:\n",
    "    print(\"Kemungkinan orang tersebut tidak beli laptop.\")"
   ]
  }
 ],
 "metadata": {
  "kernelspec": {
   "display_name": "Python 3",
   "language": "python",
   "name": "python3"
  },
  "language_info": {
   "codemirror_mode": {
    "name": "ipython",
    "version": 3
   },
   "file_extension": ".py",
   "mimetype": "text/x-python",
   "name": "python",
   "nbconvert_exporter": "python",
   "pygments_lexer": "ipython3",
   "version": "3.11.9"
  }
 },
 "nbformat": 4,
 "nbformat_minor": 2
}
