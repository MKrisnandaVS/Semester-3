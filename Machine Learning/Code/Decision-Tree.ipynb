{
 "cells": [
  {
   "cell_type": "code",
   "execution_count": 3,
   "metadata": {},
   "outputs": [],
   "source": [
    "import pandas as pd\n",
    "import numpy as np\n",
    "import math as m\n",
    "import graphviz"
   ]
  },
  {
   "cell_type": "code",
   "execution_count": 4,
   "metadata": {},
   "outputs": [
    {
     "data": {
      "text/html": [
       "<div>\n",
       "<style scoped>\n",
       "    .dataframe tbody tr th:only-of-type {\n",
       "        vertical-align: middle;\n",
       "    }\n",
       "\n",
       "    .dataframe tbody tr th {\n",
       "        vertical-align: top;\n",
       "    }\n",
       "\n",
       "    .dataframe thead th {\n",
       "        text-align: right;\n",
       "    }\n",
       "</style>\n",
       "<table border=\"1\" class=\"dataframe\">\n",
       "  <thead>\n",
       "    <tr style=\"text-align: right;\">\n",
       "      <th></th>\n",
       "      <th>NO</th>\n",
       "      <th>WAKTU</th>\n",
       "      <th>PAKET</th>\n",
       "      <th>FREKUENSI</th>\n",
       "      <th>PRIORITAS</th>\n",
       "      <th>GANGGUAN</th>\n",
       "    </tr>\n",
       "  </thead>\n",
       "  <tbody>\n",
       "    <tr>\n",
       "      <th>0</th>\n",
       "      <td>1</td>\n",
       "      <td>PENDEK</td>\n",
       "      <td>BESAR</td>\n",
       "      <td>SEDANG</td>\n",
       "      <td>RENDAH</td>\n",
       "      <td>GANGGUAN</td>\n",
       "    </tr>\n",
       "    <tr>\n",
       "      <th>1</th>\n",
       "      <td>2</td>\n",
       "      <td>PENDEK</td>\n",
       "      <td>KECIL</td>\n",
       "      <td>RENDAH</td>\n",
       "      <td>TINGGI</td>\n",
       "      <td>GANGGUAN</td>\n",
       "    </tr>\n",
       "    <tr>\n",
       "      <th>2</th>\n",
       "      <td>3</td>\n",
       "      <td>PANJANG</td>\n",
       "      <td>BESAR</td>\n",
       "      <td>SEDANG</td>\n",
       "      <td>TINGGI</td>\n",
       "      <td>NORMAL</td>\n",
       "    </tr>\n",
       "    <tr>\n",
       "      <th>3</th>\n",
       "      <td>4</td>\n",
       "      <td>PANJANG</td>\n",
       "      <td>KECIL</td>\n",
       "      <td>TINGGI</td>\n",
       "      <td>RENDAH</td>\n",
       "      <td>NORMAL</td>\n",
       "    </tr>\n",
       "    <tr>\n",
       "      <th>4</th>\n",
       "      <td>5</td>\n",
       "      <td>PENDEK</td>\n",
       "      <td>BESAR</td>\n",
       "      <td>TINGGI</td>\n",
       "      <td>TINGGI</td>\n",
       "      <td>GANGGUAN</td>\n",
       "    </tr>\n",
       "    <tr>\n",
       "      <th>5</th>\n",
       "      <td>6</td>\n",
       "      <td>PANJANG</td>\n",
       "      <td>KECIL</td>\n",
       "      <td>RENDAH</td>\n",
       "      <td>TINGGI</td>\n",
       "      <td>GANGGUAN</td>\n",
       "    </tr>\n",
       "    <tr>\n",
       "      <th>6</th>\n",
       "      <td>7</td>\n",
       "      <td>PANJANG</td>\n",
       "      <td>KECIL</td>\n",
       "      <td>TINGGI</td>\n",
       "      <td>RENDAH</td>\n",
       "      <td>GANGGUAN</td>\n",
       "    </tr>\n",
       "    <tr>\n",
       "      <th>7</th>\n",
       "      <td>8</td>\n",
       "      <td>PANJANG</td>\n",
       "      <td>KECIL</td>\n",
       "      <td>SEDANG</td>\n",
       "      <td>RENDAH</td>\n",
       "      <td>NORMAL</td>\n",
       "    </tr>\n",
       "    <tr>\n",
       "      <th>8</th>\n",
       "      <td>9</td>\n",
       "      <td>PANJANG</td>\n",
       "      <td>BESAR</td>\n",
       "      <td>TINGGI</td>\n",
       "      <td>TINGGI</td>\n",
       "      <td>NORMAL</td>\n",
       "    </tr>\n",
       "    <tr>\n",
       "      <th>9</th>\n",
       "      <td>10</td>\n",
       "      <td>PANJANG</td>\n",
       "      <td>KECIL</td>\n",
       "      <td>SEDANG</td>\n",
       "      <td>RENDAH</td>\n",
       "      <td>GANGGUAN</td>\n",
       "    </tr>\n",
       "    <tr>\n",
       "      <th>10</th>\n",
       "      <td>11</td>\n",
       "      <td>PENDEK</td>\n",
       "      <td>BESAR</td>\n",
       "      <td>SEDANG</td>\n",
       "      <td>TINGGI</td>\n",
       "      <td>NORMAL</td>\n",
       "    </tr>\n",
       "    <tr>\n",
       "      <th>11</th>\n",
       "      <td>12</td>\n",
       "      <td>PANJANG</td>\n",
       "      <td>BESAR</td>\n",
       "      <td>RENDAH</td>\n",
       "      <td>TINGGI</td>\n",
       "      <td>NORMAL</td>\n",
       "    </tr>\n",
       "  </tbody>\n",
       "</table>\n",
       "</div>"
      ],
      "text/plain": [
       "    NO    WAKTU  PAKET FREKUENSI PRIORITAS  GANGGUAN\n",
       "0    1   PENDEK  BESAR    SEDANG    RENDAH  GANGGUAN\n",
       "1    2   PENDEK  KECIL    RENDAH    TINGGI  GANGGUAN\n",
       "2    3  PANJANG  BESAR    SEDANG    TINGGI    NORMAL\n",
       "3    4  PANJANG  KECIL    TINGGI    RENDAH    NORMAL\n",
       "4    5   PENDEK  BESAR    TINGGI    TINGGI  GANGGUAN\n",
       "5    6  PANJANG  KECIL    RENDAH    TINGGI  GANGGUAN\n",
       "6    7  PANJANG  KECIL    TINGGI    RENDAH  GANGGUAN\n",
       "7    8  PANJANG  KECIL    SEDANG    RENDAH    NORMAL\n",
       "8    9  PANJANG  BESAR    TINGGI    TINGGI    NORMAL\n",
       "9   10  PANJANG  KECIL    SEDANG    RENDAH  GANGGUAN\n",
       "10  11   PENDEK  BESAR    SEDANG    TINGGI    NORMAL\n",
       "11  12  PANJANG  BESAR    RENDAH    TINGGI    NORMAL"
      ]
     },
     "execution_count": 4,
     "metadata": {},
     "output_type": "execute_result"
    }
   ],
   "source": [
    "# Import dataset\n",
    "df = pd.read_excel('Dataset/data server code.xlsx')\n",
    "df"
   ]
  },
  {
   "cell_type": "code",
   "execution_count": 5,
   "metadata": {},
   "outputs": [
    {
     "data": {
      "text/html": [
       "<div>\n",
       "<style scoped>\n",
       "    .dataframe tbody tr th:only-of-type {\n",
       "        vertical-align: middle;\n",
       "    }\n",
       "\n",
       "    .dataframe tbody tr th {\n",
       "        vertical-align: top;\n",
       "    }\n",
       "\n",
       "    .dataframe thead th {\n",
       "        text-align: right;\n",
       "    }\n",
       "</style>\n",
       "<table border=\"1\" class=\"dataframe\">\n",
       "  <thead>\n",
       "    <tr style=\"text-align: right;\">\n",
       "      <th></th>\n",
       "      <th>WAKTU</th>\n",
       "      <th>GANGGUAN</th>\n",
       "      <th>JUMLAH</th>\n",
       "    </tr>\n",
       "  </thead>\n",
       "  <tbody>\n",
       "    <tr>\n",
       "      <th>0</th>\n",
       "      <td>PENDEK</td>\n",
       "      <td>NORMAL(+)</td>\n",
       "      <td>3</td>\n",
       "    </tr>\n",
       "    <tr>\n",
       "      <th>1</th>\n",
       "      <td>PENDEK</td>\n",
       "      <td>GANGGUAN(-)</td>\n",
       "      <td>1</td>\n",
       "    </tr>\n",
       "    <tr>\n",
       "      <th>2</th>\n",
       "      <td>PANJANG</td>\n",
       "      <td>NORMAL(+)</td>\n",
       "      <td>3</td>\n",
       "    </tr>\n",
       "    <tr>\n",
       "      <th>3</th>\n",
       "      <td>PANJANG</td>\n",
       "      <td>GANGGUAN()-</td>\n",
       "      <td>5</td>\n",
       "    </tr>\n",
       "  </tbody>\n",
       "</table>\n",
       "</div>"
      ],
      "text/plain": [
       "     WAKTU     GANGGUAN  JUMLAH\n",
       "0   PENDEK    NORMAL(+)       3\n",
       "1   PENDEK  GANGGUAN(-)       1\n",
       "2  PANJANG    NORMAL(+)       3\n",
       "3  PANJANG  GANGGUAN()-       5"
      ]
     },
     "execution_count": 5,
     "metadata": {},
     "output_type": "execute_result"
    }
   ],
   "source": [
    "# Membuat node awal\n",
    "data = {\n",
    "    'WAKTU': ['PENDEK', 'PENDEK', 'PANJANG', 'PANJANG'],\n",
    "    'GANGGUAN': ['NORMAL(+)', 'GANGGUAN(-)', 'NORMAL(+)', 'GANGGUAN()-'],\n",
    "    'JUMLAH': [3, 1, 3, 5]\n",
    "}\n",
    "\n",
    "df = pd.DataFrame(data)\n",
    "df"
   ]
  },
  {
   "cell_type": "code",
   "execution_count": 6,
   "metadata": {},
   "outputs": [],
   "source": [
    "def calculate_entropy(p_plus, p_minus):\n",
    "    # Memastikan p_plus dan p_minus lebih dari 0\n",
    "    if p_plus <= 0 or p_minus <= 0:\n",
    "        raise ValueError(\"p+ and p- must be greater than 0.\")\n",
    "    \n",
    "    # Menghitung entropi\n",
    "    entropy = -p_plus * m.log2(p_plus) - p_minus * m.log2(p_minus)\n",
    "    return entropy"
   ]
  },
  {
   "cell_type": "markdown",
   "metadata": {},
   "source": [
    "# Menentukan entropy dari atribut [“Waktu”]"
   ]
  },
  {
   "cell_type": "code",
   "execution_count": 7,
   "metadata": {},
   "outputs": [
    {
     "name": "stdout",
     "output_type": "stream",
     "text": [
      "Nilai Entropi Q1 (untuk waktu = pendek): 0.8112781244591328\n"
     ]
    }
   ],
   "source": [
    "# Menghitung Q1 (untuk waktu = pendek)\n",
    "p_plus_1 = 3/4\n",
    "p_minus_1 = 1/4 \n",
    "total_data_1 = 4\n",
    "\n",
    "# Menampilkan entropy\n",
    "entropy_value_1 = calculate_entropy(p_plus_1, p_minus_1)\n",
    "print(f\"Nilai Entropi Q1 (untuk waktu = pendek): {entropy_value_1}\")"
   ]
  },
  {
   "cell_type": "code",
   "execution_count": 8,
   "metadata": {},
   "outputs": [
    {
     "name": "stdout",
     "output_type": "stream",
     "text": [
      "Nilai Entropi Q2 (untuk waktu = panjang): 0.954434002924965\n"
     ]
    }
   ],
   "source": [
    "# Menghitung Q2 (untuk waktu = panjang)\n",
    "p_plus_2 = 3/8\n",
    "p_minus_2 = 5/8\n",
    "total_data_2 = 8\n",
    "\n",
    "# Menampilkan entropy\n",
    "entropy_value_2 = calculate_entropy(p_plus_2, p_minus_2)\n",
    "print(f\"Nilai Entropi Q2 (untuk waktu = panjang): {entropy_value_2}\")"
   ]
  },
  {
   "cell_type": "code",
   "execution_count": 9,
   "metadata": {},
   "outputs": [
    {
     "name": "stdout",
     "output_type": "stream",
     "text": [
      "Entropy total dari Waktu adalah: 0.9067153767696876\n"
     ]
    }
   ],
   "source": [
    "# Menghitung entropy total\n",
    "\n",
    "entropy_total = total_data_1/12*entropy_value_1 + total_data_2/12*entropy_value_2\n",
    "print(f\"Entropy total dari Waktu adalah: {entropy_total}\")"
   ]
  },
  {
   "cell_type": "markdown",
   "metadata": {},
   "source": [
    "# Menentukan entropy dari atribut [“Paket”]"
   ]
  },
  {
   "cell_type": "code",
   "execution_count": 10,
   "metadata": {},
   "outputs": [
    {
     "name": "stdout",
     "output_type": "stream",
     "text": [
      "Nilai Entropi Q1 (untuk paket = kecil): 0.9182958340544896\n"
     ]
    }
   ],
   "source": [
    "# Menghitung Q1 (untuk paket = kecil)\n",
    "p_plus_1 = 2/6\n",
    "p_minus_1 = 4/6 \n",
    "total_data_1 = 6\n",
    "\n",
    "# Menampilkan entropy\n",
    "entropy_value_1 = calculate_entropy(p_plus_1, p_minus_1)\n",
    "print(f\"Nilai Entropi Q1 (untuk paket = kecil): {entropy_value_1}\")"
   ]
  },
  {
   "cell_type": "code",
   "execution_count": 11,
   "metadata": {},
   "outputs": [
    {
     "name": "stdout",
     "output_type": "stream",
     "text": [
      "Nilai Entropi Q2 (untuk paket = besar): 0.9182958340544896\n"
     ]
    }
   ],
   "source": [
    "# Menghitung Q2 (untuk paket = besar)\n",
    "p_plus_2 = 4/6\n",
    "p_minus_2 = 2/6\n",
    "total_data_2 = 6\n",
    "\n",
    "# Menampilkan entropy\n",
    "entropy_value_2 = calculate_entropy(p_plus_2, p_minus_2)\n",
    "print(f\"Nilai Entropi Q2 (untuk paket = besar): {entropy_value_2}\")"
   ]
  },
  {
   "cell_type": "code",
   "execution_count": 12,
   "metadata": {},
   "outputs": [
    {
     "name": "stdout",
     "output_type": "stream",
     "text": [
      "Entropy total dari Paket adalah: 0.9182958340544896\n"
     ]
    }
   ],
   "source": [
    "# Menghitung entropy total\n",
    "\n",
    "entropy_total = total_data_1/12*entropy_value_1 + total_data_2/12*entropy_value_2\n",
    "print(f\"Entropy total dari Paket adalah: {entropy_total}\")"
   ]
  },
  {
   "cell_type": "markdown",
   "metadata": {},
   "source": [
    "# Menentukan entropy dari atribut [“Frekwensi”]"
   ]
  },
  {
   "cell_type": "code",
   "execution_count": 13,
   "metadata": {},
   "outputs": [
    {
     "name": "stdout",
     "output_type": "stream",
     "text": [
      "Nilai Entropi Q1 (untuk frekwensi = rendah): 0.9182958340544896\n"
     ]
    }
   ],
   "source": [
    "# Menghitung Q1 (untuk frekwensi = rendah)\n",
    "p_plus_1 = 2/3\n",
    "p_minus_1 = 1/3 \n",
    "total_data_1 = 3\n",
    "\n",
    "# Menampilkan entropy\n",
    "entropy_value_1 = calculate_entropy(p_plus_1, p_minus_1)\n",
    "print(f\"Nilai Entropi Q1 (untuk frekwensi = rendah): {entropy_value_1}\")"
   ]
  },
  {
   "cell_type": "code",
   "execution_count": 14,
   "metadata": {},
   "outputs": [
    {
     "name": "stdout",
     "output_type": "stream",
     "text": [
      "Nilai Entropi Q2 (untuk frekwensi = sedang): 0.9709505944546686\n"
     ]
    }
   ],
   "source": [
    "# Menghitung Q2 (untuk frekwensi = sedang)\n",
    "p_plus_2 = 2/5\n",
    "p_minus_2 = 3/5\n",
    "total_data_2 = 5\n",
    "\n",
    "# Menampilkan entropy\n",
    "entropy_value_2 = calculate_entropy(p_plus_2, p_minus_2)\n",
    "print(f\"Nilai Entropi Q2 (untuk frekwensi = sedang): {entropy_value_2}\")"
   ]
  },
  {
   "cell_type": "code",
   "execution_count": 15,
   "metadata": {},
   "outputs": [
    {
     "name": "stdout",
     "output_type": "stream",
     "text": [
      "Nilai Entropi Q3 (untuk frekwensi = tinggi): 0.9709505944546686\n"
     ]
    }
   ],
   "source": [
    "# Menghitung Q3 (untuk frekwensi = tinggi)\n",
    "p_plus_3 = 2/4\n",
    "p_minus_3 = 2/4\n",
    "total_data_3 = 4\n",
    "\n",
    "# Menampilkan entropy\n",
    "entropy_value_3 = calculate_entropy(p_plus_2, p_minus_2)\n",
    "print(f\"Nilai Entropi Q3 (untuk frekwensi = tinggi): {entropy_value_3}\")"
   ]
  },
  {
   "cell_type": "code",
   "execution_count": 16,
   "metadata": {},
   "outputs": [
    {
     "name": "stdout",
     "output_type": "stream",
     "text": [
      "Entropy total dari Paket adalah: 0.9577869043546238\n"
     ]
    }
   ],
   "source": [
    "# Menghitung entropy total\n",
    "\n",
    "entropy_total = total_data_1/12*entropy_value_1 + total_data_2/12*entropy_value_2 + total_data_3/12*entropy_value_3\n",
    "print(f\"Entropy total dari Paket adalah: {entropy_total}\")"
   ]
  },
  {
   "cell_type": "markdown",
   "metadata": {},
   "source": [
    "# Menentukan entropy dari atribut [“Prioritas”]"
   ]
  },
  {
   "cell_type": "code",
   "execution_count": 17,
   "metadata": {},
   "outputs": [
    {
     "name": "stdout",
     "output_type": "stream",
     "text": [
      "Nilai Entropi Q1 (untuk prioritas = rendah): 0.9709505944546686\n"
     ]
    }
   ],
   "source": [
    "# Menghitung Q1 (untuk prioritas = rendah)\n",
    "p_plus_1 = 3/5\n",
    "p_minus_1 = 2/5\n",
    "total_data_1 = 5\n",
    "\n",
    "# Menampilkan entropy\n",
    "entropy_value_1 = calculate_entropy(p_plus_1, p_minus_1)\n",
    "print(f\"Nilai Entropi Q1 (untuk prioritas = rendah): {entropy_value_1}\")"
   ]
  },
  {
   "cell_type": "code",
   "execution_count": 18,
   "metadata": {},
   "outputs": [
    {
     "name": "stdout",
     "output_type": "stream",
     "text": [
      "Nilai Entropi Q2 (untuk prioritas = sedang): 0.9852281360342515\n"
     ]
    }
   ],
   "source": [
    "# Menghitung Q2 (untuk prioritas = sedang)\n",
    "p_plus_2 = 3/7\n",
    "p_minus_2 = 4/7\n",
    "total_data_2 = 7\n",
    "\n",
    "# Menampilkan entropy\n",
    "entropy_value_2 = calculate_entropy(p_plus_2, p_minus_2)\n",
    "print(f\"Nilai Entropi Q2 (untuk prioritas = sedang): {entropy_value_2}\")"
   ]
  },
  {
   "cell_type": "code",
   "execution_count": 19,
   "metadata": {},
   "outputs": [
    {
     "name": "stdout",
     "output_type": "stream",
     "text": [
      "Entropy total dari Paket adalah: 0.979279160376092\n"
     ]
    }
   ],
   "source": [
    "# Menghitung entropy total\n",
    "\n",
    "entropy_total = total_data_1/12*entropy_value_1 + total_data_2/12*entropy_value_2\n",
    "print(f\"Entropy total dari Paket adalah: {entropy_total}\")"
   ]
  }
 ],
 "metadata": {
  "kernelspec": {
   "display_name": "Python 3",
   "language": "python",
   "name": "python3"
  },
  "language_info": {
   "codemirror_mode": {
    "name": "ipython",
    "version": 3
   },
   "file_extension": ".py",
   "mimetype": "text/x-python",
   "name": "python",
   "nbconvert_exporter": "python",
   "pygments_lexer": "ipython3",
   "version": "3.12.4"
  }
 },
 "nbformat": 4,
 "nbformat_minor": 2
}
